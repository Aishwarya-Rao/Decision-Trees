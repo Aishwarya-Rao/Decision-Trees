{
 "cells": [
  {
   "cell_type": "markdown",
   "metadata": {},
   "source": [
    "Regression Tree logic"
   ]
  },
  {
   "cell_type": "code",
   "execution_count": 16,
   "metadata": {},
   "outputs": [],
   "source": [
    "import math\n",
    "import statistics\n",
    "import matplotlib.pyplot as plt"
   ]
  },
  {
   "cell_type": "code",
   "execution_count": 1,
   "metadata": {},
   "outputs": [],
   "source": [
    "x_data=[0,1,2,3,7,8,9,20,22,23]\n",
    "y_data=[0,1,1,2,20,22,24,5,6,5]"
   ]
  },
  {
   "cell_type": "code",
   "execution_count": 17,
   "metadata": {},
   "outputs": [
    {
     "data": {
      "image/png": "[encoded data removed]",
      "text/plain": [
       "<Figure size 640x480 with 1 Axes>"
      ]
     },
     "metadata": {},
     "output_type": "display_data"
    }
   ],
   "source": [
    "plt.scatter(x_data,y_data)\n",
    "plt.show()"
   ]
  },
  {
   "cell_type": "code",
   "execution_count": 23,
   "metadata": {},
   "outputs": [],
   "source": [
    "def cal_SSR(index,datax,datay):\n",
    "    residual=0\n",
    "    for i in range (0,index):\n",
    "        mean_low= statistics.mean(datay[0:index])\n",
    "        residual+=(datay[i]-mean_low)**2\n",
    "    for i in range(index+1,len(datay)):\n",
    "        mean_high=statistics.mean(datay[index+1:len(datax)])\n",
    "        residual+=(datay[i]-mean_high)**2\n",
    "    return residual   "
   ]
  },
  {
   "cell_type": "code",
   "execution_count": 24,
   "metadata": {},
   "outputs": [],
   "source": [
    "def SSR(datax,datay):\n",
    "    resi_list=[]\n",
    "    temp=100000000\n",
    "    for i in range(len(datax)):\n",
    "        ans=cal_SSR(i,datax,datay)\n",
    "        if ans<temp:\n",
    "            best_index=i\n",
    "            temp=ans\n",
    "        resi_list.append(ans)\n",
    "    print(resi_list,datax[best_index])\n",
    "    return best_index\n",
    "    \n",
    "\n"
   ]
  },
  {
   "cell_type": "code",
   "execution_count": 26,
   "metadata": {},
   "outputs": [
    {
     "name": "stdout",
     "output_type": "stream",
     "text": [
      "[730.2222222222224, 647.875, 542.5, 426.0, 379.20000000000005, 552.8, 537.9999999999999, 766.5, 787.875, 798] 7\n",
      "4\n"
     ]
    }
   ],
   "source": [
    "print(SSR(x_data,y_data))"
   ]
  },
  {
   "cell_type": "code",
   "execution_count": 27,
   "metadata": {},
   "outputs": [
    {
     "name": "stdout",
     "output_type": "stream",
     "text": [
      "[377.20000000000005, 262, 2.666666666666666, 8.5, 224.75, 335.20000000000005] 9\n",
      "2\n"
     ]
    }
   ],
   "source": [
    "print(SSR(x_data[4:],y_data[4:]))"
   ]
  },
  {
   "cell_type": "code",
   "execution_count": 28,
   "metadata": {},
   "outputs": [
    {
     "name": "stdout",
     "output_type": "stream",
     "text": [
      "[0.6666666666666666, 0.5, 0.5, 0.6666666666666667] 1\n",
      "1\n"
     ]
    }
   ],
   "source": [
    "print(SSR(x_data[:4],y_data[:4]))"
   ]
  }
 ],
 "metadata": {
  "kernelspec": {
   "display_name": "Python 3",
   "language": "python",
   "name": "python3"
  },
  "language_info": {
   "codemirror_mode": {
    "name": "ipython",
    "version": 3
   },
   "file_extension": ".py",
   "mimetype": "text/x-python",
   "name": "python",
   "nbconvert_exporter": "python",
   "pygments_lexer": "ipython3",
   "version": "3.12.0"
  }
 },
 "nbformat": 4,
 "nbformat_minor": 2
}
