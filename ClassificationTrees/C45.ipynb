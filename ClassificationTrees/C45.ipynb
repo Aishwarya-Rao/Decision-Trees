{
 "cells": [
  {
   "cell_type": "markdown",
   "metadata": {},
   "source": [
    "C45 Logic"
   ]
  },
  {
   "cell_type": "code",
   "execution_count": 1,
   "metadata": {},
   "outputs": [],
   "source": [
    "import pandas as pd\n",
    "import numpy as np\n",
    "import math"
   ]
  },
  {
   "cell_type": "code",
   "execution_count": 2,
   "metadata": {},
   "outputs": [],
   "source": [
    "inp_df=pd.read_csv('playgolf_data.csv')"
   ]
  },
  {
   "cell_type": "code",
   "execution_count": 3,
   "metadata": {},
   "outputs": [
    {
     "data": {
      "text/html": [
       "<div>\n",
       "<style scoped>\n",
       "    .dataframe tbody tr th:only-of-type {\n",
       "        vertical-align: middle;\n",
       "    }\n",
       "\n",
       "    .dataframe tbody tr th {\n",
       "        vertical-align: top;\n",
       "    }\n",
       "\n",
       "    .dataframe thead th {\n",
       "        text-align: right;\n",
       "    }\n",
       "</style>\n",
       "<table border=\"1\" class=\"dataframe\">\n",
       "  <thead>\n",
       "    <tr style=\"text-align: right;\">\n",
       "      <th></th>\n",
       "      <th>Outlook</th>\n",
       "      <th>Temperature</th>\n",
       "      <th>Humidity</th>\n",
       "      <th>Wind</th>\n",
       "      <th>PlayGolf</th>\n",
       "    </tr>\n",
       "  </thead>\n",
       "  <tbody>\n",
       "    <tr>\n",
       "      <th>0</th>\n",
       "      <td>Sunny</td>\n",
       "      <td>Hot</td>\n",
       "      <td>High</td>\n",
       "      <td>Weak</td>\n",
       "      <td>No</td>\n",
       "    </tr>\n",
       "    <tr>\n",
       "      <th>1</th>\n",
       "      <td>Sunny</td>\n",
       "      <td>Hot</td>\n",
       "      <td>High</td>\n",
       "      <td>Strong</td>\n",
       "      <td>No</td>\n",
       "    </tr>\n",
       "    <tr>\n",
       "      <th>2</th>\n",
       "      <td>Overcast</td>\n",
       "      <td>Hot</td>\n",
       "      <td>High</td>\n",
       "      <td>Weak</td>\n",
       "      <td>Yes</td>\n",
       "    </tr>\n",
       "    <tr>\n",
       "      <th>3</th>\n",
       "      <td>Rainy</td>\n",
       "      <td>Mild</td>\n",
       "      <td>High</td>\n",
       "      <td>Weak</td>\n",
       "      <td>Yes</td>\n",
       "    </tr>\n",
       "    <tr>\n",
       "      <th>4</th>\n",
       "      <td>Rainy</td>\n",
       "      <td>Cool</td>\n",
       "      <td>Normal</td>\n",
       "      <td>Weak</td>\n",
       "      <td>Yes</td>\n",
       "    </tr>\n",
       "    <tr>\n",
       "      <th>5</th>\n",
       "      <td>Rainy</td>\n",
       "      <td>Cool</td>\n",
       "      <td>Normal</td>\n",
       "      <td>Strong</td>\n",
       "      <td>No</td>\n",
       "    </tr>\n",
       "    <tr>\n",
       "      <th>6</th>\n",
       "      <td>Overcast</td>\n",
       "      <td>Cool</td>\n",
       "      <td>Normal</td>\n",
       "      <td>Strong</td>\n",
       "      <td>Yes</td>\n",
       "    </tr>\n",
       "    <tr>\n",
       "      <th>7</th>\n",
       "      <td>Sunny</td>\n",
       "      <td>Mild</td>\n",
       "      <td>High</td>\n",
       "      <td>Weak</td>\n",
       "      <td>No</td>\n",
       "    </tr>\n",
       "    <tr>\n",
       "      <th>8</th>\n",
       "      <td>Sunny</td>\n",
       "      <td>Cool</td>\n",
       "      <td>Normal</td>\n",
       "      <td>Weak</td>\n",
       "      <td>Yes</td>\n",
       "    </tr>\n",
       "    <tr>\n",
       "      <th>9</th>\n",
       "      <td>Rainy</td>\n",
       "      <td>Mild</td>\n",
       "      <td>Normal</td>\n",
       "      <td>Weak</td>\n",
       "      <td>Yes</td>\n",
       "    </tr>\n",
       "    <tr>\n",
       "      <th>10</th>\n",
       "      <td>Sunny</td>\n",
       "      <td>Mild</td>\n",
       "      <td>Normal</td>\n",
       "      <td>Strong</td>\n",
       "      <td>Yes</td>\n",
       "    </tr>\n",
       "    <tr>\n",
       "      <th>11</th>\n",
       "      <td>Overcast</td>\n",
       "      <td>Mild</td>\n",
       "      <td>High</td>\n",
       "      <td>Strong</td>\n",
       "      <td>Yes</td>\n",
       "    </tr>\n",
       "    <tr>\n",
       "      <th>12</th>\n",
       "      <td>Overcast</td>\n",
       "      <td>Hot</td>\n",
       "      <td>Normal</td>\n",
       "      <td>Weak</td>\n",
       "      <td>Yes</td>\n",
       "    </tr>\n",
       "    <tr>\n",
       "      <th>13</th>\n",
       "      <td>Rainy</td>\n",
       "      <td>Mild</td>\n",
       "      <td>High</td>\n",
       "      <td>Strong</td>\n",
       "      <td>No</td>\n",
       "    </tr>\n",
       "  </tbody>\n",
       "</table>\n",
       "</div>"
      ],
      "text/plain": [
       "     Outlook Temperature Humidity    Wind PlayGolf\n",
       "0      Sunny         Hot     High    Weak       No\n",
       "1      Sunny         Hot     High  Strong       No\n",
       "2   Overcast         Hot     High    Weak      Yes\n",
       "3      Rainy        Mild     High    Weak      Yes\n",
       "4      Rainy        Cool   Normal    Weak      Yes\n",
       "5      Rainy        Cool   Normal  Strong       No\n",
       "6   Overcast        Cool   Normal  Strong      Yes\n",
       "7      Sunny        Mild     High    Weak       No\n",
       "8      Sunny        Cool   Normal    Weak      Yes\n",
       "9      Rainy        Mild   Normal    Weak      Yes\n",
       "10     Sunny        Mild   Normal  Strong      Yes\n",
       "11  Overcast        Mild     High  Strong      Yes\n",
       "12  Overcast         Hot   Normal    Weak      Yes\n",
       "13     Rainy        Mild     High  Strong       No"
      ]
     },
     "execution_count": 3,
     "metadata": {},
     "output_type": "execute_result"
    }
   ],
   "source": [
    "inp_df"
   ]
  },
  {
   "cell_type": "code",
   "execution_count": 4,
   "metadata": {},
   "outputs": [],
   "source": [
    "def cal_IGainandSplit(data,ent):\n",
    "    gain=0\n",
    "    split_info=0\n",
    "    Px = len(data)/inp_df.shape[0]\n",
    "    print(len(data),Px)\n",
    "    gain+=Px*ent\n",
    "    split_info+=(-Px*math.log(Px,2))\n",
    "    return (gain,split_info)\n"
   ]
  },
  {
   "cell_type": "code",
   "execution_count": 5,
   "metadata": {},
   "outputs": [],
   "source": [
    "def cal_Entropy(data):\n",
    "    entropy=0\n",
    "    for i in range(data.nunique()):\n",
    "        Px = data.value_counts()[i]/data.shape[0]\n",
    "        entropy+=(-Px*math.log(Px,2))\n",
    "    return round(entropy,3)"
   ]
  },
  {
   "cell_type": "code",
   "execution_count": 6,
   "metadata": {},
   "outputs": [],
   "source": [
    "def entropy_and_infogain(datax, feature):\n",
    "    \"\"\"\n",
    "    Grouping features with the same class and computing their \n",
    "    entropy and information gain for splitting\n",
    "    \"\"\"\n",
    "    ent=[]\n",
    "    gain=[]\n",
    "    split=[]\n",
    "    entp=cal_Entropy(datax.PlayGolf)\n",
    "    print('ent parent',entp)\n",
    "    numof_sub_feature=inp_df[feature].nunique()\n",
    "    for i in range(numof_sub_feature):\n",
    "        unique_sub_feature=inp_df[feature].unique()[i]\n",
    "        df = datax[datax[feature]==unique_sub_feature]\n",
    "        ent.append(cal_Entropy(df.PlayGolf))\n",
    "        gaine,splite=cal_IGainandSplit(df.PlayGolf,ent[i])\n",
    "        gain.append(gaine)\n",
    "        split.append(splite)\n",
    "        print(f'Entropy of {feature} - {inp_df[feature].unique()[i]} = {ent[i]}')\n",
    "    gainsum=entp-sum(gain)\n",
    "    splitval=sum(split)\n",
    "    print(f'InformationGain is {gainsum,splitval}, split info is {gainsum/splitval}')"
   ]
  },
  {
   "cell_type": "code",
   "execution_count": 7,
   "metadata": {},
   "outputs": [
    {
     "name": "stdout",
     "output_type": "stream",
     "text": [
      "ent parent 0.94\n",
      "5 0.35714285714285715\n",
      "Entropy of Outlook - Sunny = 0.971\n",
      "4 0.2857142857142857\n",
      "Entropy of Outlook - Overcast = 0.0\n",
      "5 0.35714285714285715\n",
      "Entropy of Outlook - Rainy = 0.971\n",
      "InformationGain is (0.24642857142857133, 1.577406282852345), split info is 0.15622390636289774\n"
     ]
    },
    {
     "name": "stderr",
     "output_type": "stream",
     "text": [
      "C:\\Users\\arao86\\AppData\\Local\\Temp\\ipykernel_22552\\4175915302.py:4: FutureWarning: Series.__getitem__ treating keys as positions is deprecated. In a future version, integer keys will always be treated as labels (consistent with DataFrame behavior). To access a value by position, use `ser.iloc[pos]`\n",
      "  Px = data.value_counts()[i]/data.shape[0]\n",
      "C:\\Users\\arao86\\AppData\\Local\\Temp\\ipykernel_22552\\4175915302.py:4: FutureWarning: Series.__getitem__ treating keys as positions is deprecated. In a future version, integer keys will always be treated as labels (consistent with DataFrame behavior). To access a value by position, use `ser.iloc[pos]`\n",
      "  Px = data.value_counts()[i]/data.shape[0]\n",
      "C:\\Users\\arao86\\AppData\\Local\\Temp\\ipykernel_22552\\4175915302.py:4: FutureWarning: Series.__getitem__ treating keys as positions is deprecated. In a future version, integer keys will always be treated as labels (consistent with DataFrame behavior). To access a value by position, use `ser.iloc[pos]`\n",
      "  Px = data.value_counts()[i]/data.shape[0]\n",
      "C:\\Users\\arao86\\AppData\\Local\\Temp\\ipykernel_22552\\4175915302.py:4: FutureWarning: Series.__getitem__ treating keys as positions is deprecated. In a future version, integer keys will always be treated as labels (consistent with DataFrame behavior). To access a value by position, use `ser.iloc[pos]`\n",
      "  Px = data.value_counts()[i]/data.shape[0]\n",
      "C:\\Users\\arao86\\AppData\\Local\\Temp\\ipykernel_22552\\4175915302.py:4: FutureWarning: Series.__getitem__ treating keys as positions is deprecated. In a future version, integer keys will always be treated as labels (consistent with DataFrame behavior). To access a value by position, use `ser.iloc[pos]`\n",
      "  Px = data.value_counts()[i]/data.shape[0]\n",
      "C:\\Users\\arao86\\AppData\\Local\\Temp\\ipykernel_22552\\4175915302.py:4: FutureWarning: Series.__getitem__ treating keys as positions is deprecated. In a future version, integer keys will always be treated as labels (consistent with DataFrame behavior). To access a value by position, use `ser.iloc[pos]`\n",
      "  Px = data.value_counts()[i]/data.shape[0]\n",
      "C:\\Users\\arao86\\AppData\\Local\\Temp\\ipykernel_22552\\4175915302.py:4: FutureWarning: Series.__getitem__ treating keys as positions is deprecated. In a future version, integer keys will always be treated as labels (consistent with DataFrame behavior). To access a value by position, use `ser.iloc[pos]`\n",
      "  Px = data.value_counts()[i]/data.shape[0]\n"
     ]
    }
   ],
   "source": [
    "entropy_and_infogain(inp_df,'Outlook')"
   ]
  },
  {
   "cell_type": "code",
   "execution_count": 8,
   "metadata": {},
   "outputs": [
    {
     "name": "stdout",
     "output_type": "stream",
     "text": [
      "ent parent 0.94\n",
      "4 0.2857142857142857\n",
      "Entropy of Temperature - Hot = 1.0\n",
      "6 0.42857142857142855\n",
      "Entropy of Temperature - Mild = 0.918\n",
      "4 0.2857142857142857\n",
      "Entropy of Temperature - Cool = 0.811\n",
      "InformationGain is (0.029142857142857137, 1.5566567074628228), split info is 0.018721441280625545\n"
     ]
    },
    {
     "name": "stderr",
     "output_type": "stream",
     "text": [
      "C:\\Users\\arao86\\AppData\\Local\\Temp\\ipykernel_22552\\4175915302.py:4: FutureWarning: Series.__getitem__ treating keys as positions is deprecated. In a future version, integer keys will always be treated as labels (consistent with DataFrame behavior). To access a value by position, use `ser.iloc[pos]`\n",
      "  Px = data.value_counts()[i]/data.shape[0]\n",
      "C:\\Users\\arao86\\AppData\\Local\\Temp\\ipykernel_22552\\4175915302.py:4: FutureWarning: Series.__getitem__ treating keys as positions is deprecated. In a future version, integer keys will always be treated as labels (consistent with DataFrame behavior). To access a value by position, use `ser.iloc[pos]`\n",
      "  Px = data.value_counts()[i]/data.shape[0]\n",
      "C:\\Users\\arao86\\AppData\\Local\\Temp\\ipykernel_22552\\4175915302.py:4: FutureWarning: Series.__getitem__ treating keys as positions is deprecated. In a future version, integer keys will always be treated as labels (consistent with DataFrame behavior). To access a value by position, use `ser.iloc[pos]`\n",
      "  Px = data.value_counts()[i]/data.shape[0]\n",
      "C:\\Users\\arao86\\AppData\\Local\\Temp\\ipykernel_22552\\4175915302.py:4: FutureWarning: Series.__getitem__ treating keys as positions is deprecated. In a future version, integer keys will always be treated as labels (consistent with DataFrame behavior). To access a value by position, use `ser.iloc[pos]`\n",
      "  Px = data.value_counts()[i]/data.shape[0]\n",
      "C:\\Users\\arao86\\AppData\\Local\\Temp\\ipykernel_22552\\4175915302.py:4: FutureWarning: Series.__getitem__ treating keys as positions is deprecated. In a future version, integer keys will always be treated as labels (consistent with DataFrame behavior). To access a value by position, use `ser.iloc[pos]`\n",
      "  Px = data.value_counts()[i]/data.shape[0]\n",
      "C:\\Users\\arao86\\AppData\\Local\\Temp\\ipykernel_22552\\4175915302.py:4: FutureWarning: Series.__getitem__ treating keys as positions is deprecated. In a future version, integer keys will always be treated as labels (consistent with DataFrame behavior). To access a value by position, use `ser.iloc[pos]`\n",
      "  Px = data.value_counts()[i]/data.shape[0]\n",
      "C:\\Users\\arao86\\AppData\\Local\\Temp\\ipykernel_22552\\4175915302.py:4: FutureWarning: Series.__getitem__ treating keys as positions is deprecated. In a future version, integer keys will always be treated as labels (consistent with DataFrame behavior). To access a value by position, use `ser.iloc[pos]`\n",
      "  Px = data.value_counts()[i]/data.shape[0]\n",
      "C:\\Users\\arao86\\AppData\\Local\\Temp\\ipykernel_22552\\4175915302.py:4: FutureWarning: Series.__getitem__ treating keys as positions is deprecated. In a future version, integer keys will always be treated as labels (consistent with DataFrame behavior). To access a value by position, use `ser.iloc[pos]`\n",
      "  Px = data.value_counts()[i]/data.shape[0]\n"
     ]
    }
   ],
   "source": [
    "entropy_and_infogain(inp_df,'Temperature')"
   ]
  },
  {
   "cell_type": "code",
   "execution_count": 9,
   "metadata": {},
   "outputs": [
    {
     "name": "stdout",
     "output_type": "stream",
     "text": [
      "ent parent 0.94\n",
      "7 0.5\n",
      "Entropy of Humidity - High = 0.985\n",
      "7 0.5\n",
      "Entropy of Humidity - Normal = 0.592\n",
      "InformationGain is (0.15149999999999997, 1.0), split info is 0.15149999999999997\n"
     ]
    },
    {
     "name": "stderr",
     "output_type": "stream",
     "text": [
      "C:\\Users\\arao86\\AppData\\Local\\Temp\\ipykernel_22552\\4175915302.py:4: FutureWarning: Series.__getitem__ treating keys as positions is deprecated. In a future version, integer keys will always be treated as labels (consistent with DataFrame behavior). To access a value by position, use `ser.iloc[pos]`\n",
      "  Px = data.value_counts()[i]/data.shape[0]\n",
      "C:\\Users\\arao86\\AppData\\Local\\Temp\\ipykernel_22552\\4175915302.py:4: FutureWarning: Series.__getitem__ treating keys as positions is deprecated. In a future version, integer keys will always be treated as labels (consistent with DataFrame behavior). To access a value by position, use `ser.iloc[pos]`\n",
      "  Px = data.value_counts()[i]/data.shape[0]\n",
      "C:\\Users\\arao86\\AppData\\Local\\Temp\\ipykernel_22552\\4175915302.py:4: FutureWarning: Series.__getitem__ treating keys as positions is deprecated. In a future version, integer keys will always be treated as labels (consistent with DataFrame behavior). To access a value by position, use `ser.iloc[pos]`\n",
      "  Px = data.value_counts()[i]/data.shape[0]\n",
      "C:\\Users\\arao86\\AppData\\Local\\Temp\\ipykernel_22552\\4175915302.py:4: FutureWarning: Series.__getitem__ treating keys as positions is deprecated. In a future version, integer keys will always be treated as labels (consistent with DataFrame behavior). To access a value by position, use `ser.iloc[pos]`\n",
      "  Px = data.value_counts()[i]/data.shape[0]\n",
      "C:\\Users\\arao86\\AppData\\Local\\Temp\\ipykernel_22552\\4175915302.py:4: FutureWarning: Series.__getitem__ treating keys as positions is deprecated. In a future version, integer keys will always be treated as labels (consistent with DataFrame behavior). To access a value by position, use `ser.iloc[pos]`\n",
      "  Px = data.value_counts()[i]/data.shape[0]\n",
      "C:\\Users\\arao86\\AppData\\Local\\Temp\\ipykernel_22552\\4175915302.py:4: FutureWarning: Series.__getitem__ treating keys as positions is deprecated. In a future version, integer keys will always be treated as labels (consistent with DataFrame behavior). To access a value by position, use `ser.iloc[pos]`\n",
      "  Px = data.value_counts()[i]/data.shape[0]\n"
     ]
    }
   ],
   "source": [
    "entropy_and_infogain(inp_df,'Humidity')"
   ]
  },
  {
   "cell_type": "code",
   "execution_count": 10,
   "metadata": {},
   "outputs": [
    {
     "name": "stdout",
     "output_type": "stream",
     "text": [
      "ent parent 0.94\n",
      "8 0.5714285714285714\n",
      "Entropy of Wind - Weak = 0.811\n",
      "6 0.42857142857142855\n",
      "Entropy of Wind - Strong = 1.0\n",
      "InformationGain is (0.04800000000000004, 0.9852281360342516), split info is 0.048719680492692825\n"
     ]
    },
    {
     "name": "stderr",
     "output_type": "stream",
     "text": [
      "C:\\Users\\arao86\\AppData\\Local\\Temp\\ipykernel_22552\\4175915302.py:4: FutureWarning: Series.__getitem__ treating keys as positions is deprecated. In a future version, integer keys will always be treated as labels (consistent with DataFrame behavior). To access a value by position, use `ser.iloc[pos]`\n",
      "  Px = data.value_counts()[i]/data.shape[0]\n",
      "C:\\Users\\arao86\\AppData\\Local\\Temp\\ipykernel_22552\\4175915302.py:4: FutureWarning: Series.__getitem__ treating keys as positions is deprecated. In a future version, integer keys will always be treated as labels (consistent with DataFrame behavior). To access a value by position, use `ser.iloc[pos]`\n",
      "  Px = data.value_counts()[i]/data.shape[0]\n",
      "C:\\Users\\arao86\\AppData\\Local\\Temp\\ipykernel_22552\\4175915302.py:4: FutureWarning: Series.__getitem__ treating keys as positions is deprecated. In a future version, integer keys will always be treated as labels (consistent with DataFrame behavior). To access a value by position, use `ser.iloc[pos]`\n",
      "  Px = data.value_counts()[i]/data.shape[0]\n",
      "C:\\Users\\arao86\\AppData\\Local\\Temp\\ipykernel_22552\\4175915302.py:4: FutureWarning: Series.__getitem__ treating keys as positions is deprecated. In a future version, integer keys will always be treated as labels (consistent with DataFrame behavior). To access a value by position, use `ser.iloc[pos]`\n",
      "  Px = data.value_counts()[i]/data.shape[0]\n",
      "C:\\Users\\arao86\\AppData\\Local\\Temp\\ipykernel_22552\\4175915302.py:4: FutureWarning: Series.__getitem__ treating keys as positions is deprecated. In a future version, integer keys will always be treated as labels (consistent with DataFrame behavior). To access a value by position, use `ser.iloc[pos]`\n",
      "  Px = data.value_counts()[i]/data.shape[0]\n",
      "C:\\Users\\arao86\\AppData\\Local\\Temp\\ipykernel_22552\\4175915302.py:4: FutureWarning: Series.__getitem__ treating keys as positions is deprecated. In a future version, integer keys will always be treated as labels (consistent with DataFrame behavior). To access a value by position, use `ser.iloc[pos]`\n",
      "  Px = data.value_counts()[i]/data.shape[0]\n"
     ]
    }
   ],
   "source": [
    "entropy_and_infogain(inp_df,'Wind')"
   ]
  },
  {
   "cell_type": "code",
   "execution_count": null,
   "metadata": {},
   "outputs": [],
   "source": []
  },
  {
   "cell_type": "code",
   "execution_count": null,
   "metadata": {},
   "outputs": [],
   "source": []
  },
  {
   "cell_type": "code",
   "execution_count": null,
   "metadata": {},
   "outputs": [],
   "source": []
  },
  {
   "cell_type": "code",
   "execution_count": null,
   "metadata": {},
   "outputs": [],
   "source": []
  },
  {
   "cell_type": "code",
   "execution_count": null,
   "metadata": {},
   "outputs": [],
   "source": []
  },
  {
   "cell_type": "code",
   "execution_count": null,
   "metadata": {},
   "outputs": [],
   "source": []
  },
  {
   "cell_type": "code",
   "execution_count": null,
   "metadata": {},
   "outputs": [],
   "source": []
  }
 ],
 "metadata": {
  "kernelspec": {
   "display_name": "Python 3",
   "language": "python",
   "name": "python3"
  },
  "language_info": {
   "codemirror_mode": {
    "name": "ipython",
    "version": 3
   },
   "file_extension": ".py",
   "mimetype": "text/x-python",
   "name": "python",
   "nbconvert_exporter": "python",
   "pygments_lexer": "ipython3",
   "version": "3.12.0"
  }
 },
 "nbformat": 4,
 "nbformat_minor": 2
}
