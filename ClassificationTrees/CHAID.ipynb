{
 "cells": [
  {
   "cell_type": "code",
   "execution_count": 1,
   "metadata": {},
   "outputs": [],
   "source": [
    "import pandas as pd\n",
    "import numpy as np\n",
    "import math"
   ]
  },
  {
   "cell_type": "code",
   "execution_count": 2,
   "metadata": {},
   "outputs": [],
   "source": [
    "inp_df=pd.read_csv('playgolf_data.csv')"
   ]
  },
  {
   "cell_type": "code",
   "execution_count": 3,
   "metadata": {},
   "outputs": [
    {
     "data": {
      "text/html": [
       "<div>\n",
       "<style scoped>\n",
       "    .dataframe tbody tr th:only-of-type {\n",
       "        vertical-align: middle;\n",
       "    }\n",
       "\n",
       "    .dataframe tbody tr th {\n",
       "        vertical-align: top;\n",
       "    }\n",
       "\n",
       "    .dataframe thead th {\n",
       "        text-align: right;\n",
       "    }\n",
       "</style>\n",
       "<table border=\"1\" class=\"dataframe\">\n",
       "  <thead>\n",
       "    <tr style=\"text-align: right;\">\n",
       "      <th></th>\n",
       "      <th>Outlook</th>\n",
       "      <th>Temperature</th>\n",
       "      <th>Humidity</th>\n",
       "      <th>Wind</th>\n",
       "      <th>PlayGolf</th>\n",
       "    </tr>\n",
       "  </thead>\n",
       "  <tbody>\n",
       "    <tr>\n",
       "      <th>0</th>\n",
       "      <td>Sunny</td>\n",
       "      <td>Hot</td>\n",
       "      <td>High</td>\n",
       "      <td>Weak</td>\n",
       "      <td>No</td>\n",
       "    </tr>\n",
       "    <tr>\n",
       "      <th>1</th>\n",
       "      <td>Sunny</td>\n",
       "      <td>Hot</td>\n",
       "      <td>High</td>\n",
       "      <td>Strong</td>\n",
       "      <td>No</td>\n",
       "    </tr>\n",
       "    <tr>\n",
       "      <th>2</th>\n",
       "      <td>Overcast</td>\n",
       "      <td>Hot</td>\n",
       "      <td>High</td>\n",
       "      <td>Weak</td>\n",
       "      <td>Yes</td>\n",
       "    </tr>\n",
       "    <tr>\n",
       "      <th>3</th>\n",
       "      <td>Rainy</td>\n",
       "      <td>Mild</td>\n",
       "      <td>High</td>\n",
       "      <td>Weak</td>\n",
       "      <td>Yes</td>\n",
       "    </tr>\n",
       "    <tr>\n",
       "      <th>4</th>\n",
       "      <td>Rainy</td>\n",
       "      <td>Cool</td>\n",
       "      <td>Normal</td>\n",
       "      <td>Weak</td>\n",
       "      <td>Yes</td>\n",
       "    </tr>\n",
       "    <tr>\n",
       "      <th>5</th>\n",
       "      <td>Rainy</td>\n",
       "      <td>Cool</td>\n",
       "      <td>Normal</td>\n",
       "      <td>Strong</td>\n",
       "      <td>No</td>\n",
       "    </tr>\n",
       "    <tr>\n",
       "      <th>6</th>\n",
       "      <td>Overcast</td>\n",
       "      <td>Cool</td>\n",
       "      <td>Normal</td>\n",
       "      <td>Strong</td>\n",
       "      <td>Yes</td>\n",
       "    </tr>\n",
       "    <tr>\n",
       "      <th>7</th>\n",
       "      <td>Sunny</td>\n",
       "      <td>Mild</td>\n",
       "      <td>High</td>\n",
       "      <td>Weak</td>\n",
       "      <td>No</td>\n",
       "    </tr>\n",
       "    <tr>\n",
       "      <th>8</th>\n",
       "      <td>Sunny</td>\n",
       "      <td>Cool</td>\n",
       "      <td>Normal</td>\n",
       "      <td>Weak</td>\n",
       "      <td>Yes</td>\n",
       "    </tr>\n",
       "    <tr>\n",
       "      <th>9</th>\n",
       "      <td>Rainy</td>\n",
       "      <td>Mild</td>\n",
       "      <td>Normal</td>\n",
       "      <td>Weak</td>\n",
       "      <td>Yes</td>\n",
       "    </tr>\n",
       "    <tr>\n",
       "      <th>10</th>\n",
       "      <td>Sunny</td>\n",
       "      <td>Mild</td>\n",
       "      <td>Normal</td>\n",
       "      <td>Strong</td>\n",
       "      <td>Yes</td>\n",
       "    </tr>\n",
       "    <tr>\n",
       "      <th>11</th>\n",
       "      <td>Overcast</td>\n",
       "      <td>Mild</td>\n",
       "      <td>High</td>\n",
       "      <td>Strong</td>\n",
       "      <td>Yes</td>\n",
       "    </tr>\n",
       "    <tr>\n",
       "      <th>12</th>\n",
       "      <td>Overcast</td>\n",
       "      <td>Hot</td>\n",
       "      <td>Normal</td>\n",
       "      <td>Weak</td>\n",
       "      <td>Yes</td>\n",
       "    </tr>\n",
       "    <tr>\n",
       "      <th>13</th>\n",
       "      <td>Rainy</td>\n",
       "      <td>Mild</td>\n",
       "      <td>High</td>\n",
       "      <td>Strong</td>\n",
       "      <td>No</td>\n",
       "    </tr>\n",
       "  </tbody>\n",
       "</table>\n",
       "</div>"
      ],
      "text/plain": [
       "     Outlook Temperature Humidity    Wind PlayGolf\n",
       "0      Sunny         Hot     High    Weak       No\n",
       "1      Sunny         Hot     High  Strong       No\n",
       "2   Overcast         Hot     High    Weak      Yes\n",
       "3      Rainy        Mild     High    Weak      Yes\n",
       "4      Rainy        Cool   Normal    Weak      Yes\n",
       "5      Rainy        Cool   Normal  Strong       No\n",
       "6   Overcast        Cool   Normal  Strong      Yes\n",
       "7      Sunny        Mild     High    Weak       No\n",
       "8      Sunny        Cool   Normal    Weak      Yes\n",
       "9      Rainy        Mild   Normal    Weak      Yes\n",
       "10     Sunny        Mild   Normal  Strong      Yes\n",
       "11  Overcast        Mild     High  Strong      Yes\n",
       "12  Overcast         Hot   Normal    Weak      Yes\n",
       "13     Rainy        Mild     High  Strong       No"
      ]
     },
     "execution_count": 3,
     "metadata": {},
     "output_type": "execute_result"
    }
   ],
   "source": [
    "inp_df"
   ]
  },
  {
   "cell_type": "code",
   "execution_count": 36,
   "metadata": {},
   "outputs": [],
   "source": [
    "def chiValue(df,expected,classtypes):\n",
    "    chi=0\n",
    "    for i in range(classtypes):\n",
    "        if len(df.value_counts())<classtypes:\n",
    "            actual=0\n",
    "        else :\n",
    "            actual=df.value_counts()[i]\n",
    "        chi+=math.sqrt((actual-expected)**2/expected)\n",
    "        print(chi)\n",
    "\n",
    "    return chi"
   ]
  },
  {
   "cell_type": "code",
   "execution_count": 37,
   "metadata": {},
   "outputs": [],
   "source": [
    "def callChi(input,feature):\n",
    "    classtypes=input.PlayGolf.nunique()\n",
    "    print(classtypes)\n",
    "    chival=0\n",
    "    for i in range(input[feature].nunique()):\n",
    "        unique_sub_feature=inp_df[feature].unique()[i]\n",
    "        dfnew = input[input[feature]==unique_sub_feature]\n",
    "        print(dfnew)\n",
    "        exp=len(dfnew.PlayGolf)/classtypes\n",
    "        print(exp)\n",
    "        chival+=chiValue(dfnew.PlayGolf,exp,classtypes)\n",
    "    return chival"
   ]
  },
  {
   "cell_type": "code",
   "execution_count": 38,
   "metadata": {},
   "outputs": [
    {
     "name": "stdout",
     "output_type": "stream",
     "text": [
      "2\n",
      "   Outlook Temperature Humidity    Wind PlayGolf\n",
      "0    Sunny         Hot     High    Weak       No\n",
      "1    Sunny         Hot     High  Strong       No\n",
      "7    Sunny        Mild     High    Weak       No\n",
      "8    Sunny        Cool   Normal    Weak      Yes\n",
      "10   Sunny        Mild   Normal  Strong      Yes\n",
      "2.5\n",
      "0.31622776601683794\n",
      "0.6324555320336759\n",
      "     Outlook Temperature Humidity    Wind PlayGolf\n",
      "2   Overcast         Hot     High    Weak      Yes\n",
      "6   Overcast        Cool   Normal  Strong      Yes\n",
      "11  Overcast        Mild     High  Strong      Yes\n",
      "12  Overcast         Hot   Normal    Weak      Yes\n",
      "2.0\n",
      "1.4142135623730951\n",
      "2.8284271247461903\n",
      "   Outlook Temperature Humidity    Wind PlayGolf\n",
      "3    Rainy        Mild     High    Weak      Yes\n",
      "4    Rainy        Cool   Normal    Weak      Yes\n",
      "5    Rainy        Cool   Normal  Strong       No\n",
      "9    Rainy        Mild   Normal    Weak      Yes\n",
      "13   Rainy        Mild     High  Strong       No\n",
      "2.5\n",
      "0.31622776601683794\n",
      "0.6324555320336759\n",
      "thsi is the chi valu  4.093338188813542\n"
     ]
    },
    {
     "name": "stderr",
     "output_type": "stream",
     "text": [
      "C:\\Users\\arao86\\AppData\\Local\\Temp\\ipykernel_1116\\2648207341.py:7: FutureWarning: Series.__getitem__ treating keys as positions is deprecated. In a future version, integer keys will always be treated as labels (consistent with DataFrame behavior). To access a value by position, use `ser.iloc[pos]`\n",
      "  actual=df.value_counts()[i]\n",
      "C:\\Users\\arao86\\AppData\\Local\\Temp\\ipykernel_1116\\2648207341.py:7: FutureWarning: Series.__getitem__ treating keys as positions is deprecated. In a future version, integer keys will always be treated as labels (consistent with DataFrame behavior). To access a value by position, use `ser.iloc[pos]`\n",
      "  actual=df.value_counts()[i]\n",
      "C:\\Users\\arao86\\AppData\\Local\\Temp\\ipykernel_1116\\2648207341.py:7: FutureWarning: Series.__getitem__ treating keys as positions is deprecated. In a future version, integer keys will always be treated as labels (consistent with DataFrame behavior). To access a value by position, use `ser.iloc[pos]`\n",
      "  actual=df.value_counts()[i]\n",
      "C:\\Users\\arao86\\AppData\\Local\\Temp\\ipykernel_1116\\2648207341.py:7: FutureWarning: Series.__getitem__ treating keys as positions is deprecated. In a future version, integer keys will always be treated as labels (consistent with DataFrame behavior). To access a value by position, use `ser.iloc[pos]`\n",
      "  actual=df.value_counts()[i]\n"
     ]
    }
   ],
   "source": [
    "print(\"thsi is the chi valu \",callChi(inp_df,'Outlook'))"
   ]
  },
  {
   "cell_type": "code",
   "execution_count": 39,
   "metadata": {},
   "outputs": [
    {
     "name": "stdout",
     "output_type": "stream",
     "text": [
      "2\n",
      "     Outlook Temperature Humidity    Wind PlayGolf\n",
      "0      Sunny         Hot     High    Weak       No\n",
      "1      Sunny         Hot     High  Strong       No\n",
      "2   Overcast         Hot     High    Weak      Yes\n",
      "3      Rainy        Mild     High    Weak      Yes\n",
      "7      Sunny        Mild     High    Weak       No\n",
      "11  Overcast        Mild     High  Strong      Yes\n",
      "13     Rainy        Mild     High  Strong       No\n",
      "3.5\n",
      "0.2672612419124244\n",
      "0.5345224838248488\n",
      "     Outlook Temperature Humidity    Wind PlayGolf\n",
      "4      Rainy        Cool   Normal    Weak      Yes\n",
      "5      Rainy        Cool   Normal  Strong       No\n",
      "6   Overcast        Cool   Normal  Strong      Yes\n",
      "8      Sunny        Cool   Normal    Weak      Yes\n",
      "9      Rainy        Mild   Normal    Weak      Yes\n",
      "10     Sunny        Mild   Normal  Strong      Yes\n",
      "12  Overcast         Hot   Normal    Weak      Yes\n",
      "3.5\n",
      "1.3363062095621219\n",
      "2.6726124191242437\n",
      "thsi is the chi valu  3.2071349029490923\n"
     ]
    },
    {
     "name": "stderr",
     "output_type": "stream",
     "text": [
      "C:\\Users\\arao86\\AppData\\Local\\Temp\\ipykernel_1116\\2648207341.py:7: FutureWarning: Series.__getitem__ treating keys as positions is deprecated. In a future version, integer keys will always be treated as labels (consistent with DataFrame behavior). To access a value by position, use `ser.iloc[pos]`\n",
      "  actual=df.value_counts()[i]\n",
      "C:\\Users\\arao86\\AppData\\Local\\Temp\\ipykernel_1116\\2648207341.py:7: FutureWarning: Series.__getitem__ treating keys as positions is deprecated. In a future version, integer keys will always be treated as labels (consistent with DataFrame behavior). To access a value by position, use `ser.iloc[pos]`\n",
      "  actual=df.value_counts()[i]\n",
      "C:\\Users\\arao86\\AppData\\Local\\Temp\\ipykernel_1116\\2648207341.py:7: FutureWarning: Series.__getitem__ treating keys as positions is deprecated. In a future version, integer keys will always be treated as labels (consistent with DataFrame behavior). To access a value by position, use `ser.iloc[pos]`\n",
      "  actual=df.value_counts()[i]\n",
      "C:\\Users\\arao86\\AppData\\Local\\Temp\\ipykernel_1116\\2648207341.py:7: FutureWarning: Series.__getitem__ treating keys as positions is deprecated. In a future version, integer keys will always be treated as labels (consistent with DataFrame behavior). To access a value by position, use `ser.iloc[pos]`\n",
      "  actual=df.value_counts()[i]\n"
     ]
    }
   ],
   "source": [
    "print(\"thsi is the chi valu \",callChi(inp_df,'Humidity'))"
   ]
  },
  {
   "cell_type": "code",
   "execution_count": 40,
   "metadata": {},
   "outputs": [
    {
     "name": "stdout",
     "output_type": "stream",
     "text": [
      "2\n",
      "     Outlook Temperature Humidity    Wind PlayGolf\n",
      "0      Sunny         Hot     High    Weak       No\n",
      "1      Sunny         Hot     High  Strong       No\n",
      "2   Overcast         Hot     High    Weak      Yes\n",
      "12  Overcast         Hot   Normal    Weak      Yes\n",
      "2.0\n",
      "0.0\n",
      "0.0\n",
      "     Outlook Temperature Humidity    Wind PlayGolf\n",
      "3      Rainy        Mild     High    Weak      Yes\n",
      "7      Sunny        Mild     High    Weak       No\n",
      "9      Rainy        Mild   Normal    Weak      Yes\n",
      "10     Sunny        Mild   Normal  Strong      Yes\n",
      "11  Overcast        Mild     High  Strong      Yes\n",
      "13     Rainy        Mild     High  Strong       No\n",
      "3.0\n",
      "0.5773502691896257\n",
      "1.1547005383792515\n",
      "    Outlook Temperature Humidity    Wind PlayGolf\n",
      "4     Rainy        Cool   Normal    Weak      Yes\n",
      "5     Rainy        Cool   Normal  Strong       No\n",
      "6  Overcast        Cool   Normal  Strong      Yes\n",
      "8     Sunny        Cool   Normal    Weak      Yes\n",
      "2.0\n",
      "0.7071067811865476\n",
      "1.4142135623730951\n",
      "thsi is the chi valu  2.5689141007523464\n"
     ]
    },
    {
     "name": "stderr",
     "output_type": "stream",
     "text": [
      "C:\\Users\\arao86\\AppData\\Local\\Temp\\ipykernel_1116\\2648207341.py:7: FutureWarning: Series.__getitem__ treating keys as positions is deprecated. In a future version, integer keys will always be treated as labels (consistent with DataFrame behavior). To access a value by position, use `ser.iloc[pos]`\n",
      "  actual=df.value_counts()[i]\n",
      "C:\\Users\\arao86\\AppData\\Local\\Temp\\ipykernel_1116\\2648207341.py:7: FutureWarning: Series.__getitem__ treating keys as positions is deprecated. In a future version, integer keys will always be treated as labels (consistent with DataFrame behavior). To access a value by position, use `ser.iloc[pos]`\n",
      "  actual=df.value_counts()[i]\n",
      "C:\\Users\\arao86\\AppData\\Local\\Temp\\ipykernel_1116\\2648207341.py:7: FutureWarning: Series.__getitem__ treating keys as positions is deprecated. In a future version, integer keys will always be treated as labels (consistent with DataFrame behavior). To access a value by position, use `ser.iloc[pos]`\n",
      "  actual=df.value_counts()[i]\n",
      "C:\\Users\\arao86\\AppData\\Local\\Temp\\ipykernel_1116\\2648207341.py:7: FutureWarning: Series.__getitem__ treating keys as positions is deprecated. In a future version, integer keys will always be treated as labels (consistent with DataFrame behavior). To access a value by position, use `ser.iloc[pos]`\n",
      "  actual=df.value_counts()[i]\n",
      "C:\\Users\\arao86\\AppData\\Local\\Temp\\ipykernel_1116\\2648207341.py:7: FutureWarning: Series.__getitem__ treating keys as positions is deprecated. In a future version, integer keys will always be treated as labels (consistent with DataFrame behavior). To access a value by position, use `ser.iloc[pos]`\n",
      "  actual=df.value_counts()[i]\n",
      "C:\\Users\\arao86\\AppData\\Local\\Temp\\ipykernel_1116\\2648207341.py:7: FutureWarning: Series.__getitem__ treating keys as positions is deprecated. In a future version, integer keys will always be treated as labels (consistent with DataFrame behavior). To access a value by position, use `ser.iloc[pos]`\n",
      "  actual=df.value_counts()[i]\n"
     ]
    }
   ],
   "source": [
    "print(\"thsi is the chi valu \",callChi(inp_df,'Temperature'))"
   ]
  },
  {
   "cell_type": "code",
   "execution_count": 41,
   "metadata": {},
   "outputs": [
    {
     "name": "stdout",
     "output_type": "stream",
     "text": [
      "2\n",
      "     Outlook Temperature Humidity  Wind PlayGolf\n",
      "0      Sunny         Hot     High  Weak       No\n",
      "2   Overcast         Hot     High  Weak      Yes\n",
      "3      Rainy        Mild     High  Weak      Yes\n",
      "4      Rainy        Cool   Normal  Weak      Yes\n",
      "7      Sunny        Mild     High  Weak       No\n",
      "8      Sunny        Cool   Normal  Weak      Yes\n",
      "9      Rainy        Mild   Normal  Weak      Yes\n",
      "12  Overcast         Hot   Normal  Weak      Yes\n",
      "4.0\n",
      "1.0\n",
      "2.0\n",
      "     Outlook Temperature Humidity    Wind PlayGolf\n",
      "1      Sunny         Hot     High  Strong       No\n",
      "5      Rainy        Cool   Normal  Strong       No\n",
      "6   Overcast        Cool   Normal  Strong      Yes\n",
      "10     Sunny        Mild   Normal  Strong      Yes\n",
      "11  Overcast        Mild     High  Strong      Yes\n",
      "13     Rainy        Mild     High  Strong       No\n",
      "3.0\n",
      "0.0\n",
      "0.0\n",
      "thsi is the chi valu  2.0\n"
     ]
    },
    {
     "name": "stderr",
     "output_type": "stream",
     "text": [
      "C:\\Users\\arao86\\AppData\\Local\\Temp\\ipykernel_1116\\2648207341.py:7: FutureWarning: Series.__getitem__ treating keys as positions is deprecated. In a future version, integer keys will always be treated as labels (consistent with DataFrame behavior). To access a value by position, use `ser.iloc[pos]`\n",
      "  actual=df.value_counts()[i]\n",
      "C:\\Users\\arao86\\AppData\\Local\\Temp\\ipykernel_1116\\2648207341.py:7: FutureWarning: Series.__getitem__ treating keys as positions is deprecated. In a future version, integer keys will always be treated as labels (consistent with DataFrame behavior). To access a value by position, use `ser.iloc[pos]`\n",
      "  actual=df.value_counts()[i]\n",
      "C:\\Users\\arao86\\AppData\\Local\\Temp\\ipykernel_1116\\2648207341.py:7: FutureWarning: Series.__getitem__ treating keys as positions is deprecated. In a future version, integer keys will always be treated as labels (consistent with DataFrame behavior). To access a value by position, use `ser.iloc[pos]`\n",
      "  actual=df.value_counts()[i]\n",
      "C:\\Users\\arao86\\AppData\\Local\\Temp\\ipykernel_1116\\2648207341.py:7: FutureWarning: Series.__getitem__ treating keys as positions is deprecated. In a future version, integer keys will always be treated as labels (consistent with DataFrame behavior). To access a value by position, use `ser.iloc[pos]`\n",
      "  actual=df.value_counts()[i]\n"
     ]
    }
   ],
   "source": [
    "print(\"thsi is the chi valu \",callChi(inp_df,'Wind'))"
   ]
  },
  {
   "cell_type": "code",
   "execution_count": null,
   "metadata": {},
   "outputs": [],
   "source": []
  }
 ],
 "metadata": {
  "kernelspec": {
   "display_name": "Python 3",
   "language": "python",
   "name": "python3"
  },
  "language_info": {
   "codemirror_mode": {
    "name": "ipython",
    "version": 3
   },
   "file_extension": ".py",
   "mimetype": "text/x-python",
   "name": "python",
   "nbconvert_exporter": "python",
   "pygments_lexer": "ipython3",
   "version": "3.12.0"
  }
 },
 "nbformat": 4,
 "nbformat_minor": 2
}
